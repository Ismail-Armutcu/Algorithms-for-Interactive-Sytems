{
  "cells": [
    {
      "cell_type": "markdown",
      "metadata": {
        "id": "view-in-github",
        "colab_type": "text"
      },
      "source": [
        "<a href=\"https://colab.research.google.com/github/Ismail-Armutcu/Algorithms-for-Interactive-Sytems/blob/main/MazePathFinding.ipynb\" target=\"_parent\"><img src=\"https://colab.research.google.com/assets/colab-badge.svg\" alt=\"Open In Colab\"/></a>"
      ]
    },
    {
      "cell_type": "markdown",
      "metadata": {
        "id": "VTDba6pgyB33"
      },
      "source": [
        "# **MMI-513 Programming Assignment #3**\n",
        "# Procedural Content Generation\n",
        "## Maze Generation\n",
        "### Prims Maze Implementation\n",
        "\n",
        "- İsmail Hakkı Armutcu\n",
        "- 2374395\n",
        "\n"
      ]
    },
    {
      "cell_type": "markdown",
      "metadata": {
        "id": "sUyvmRSwyGH_"
      },
      "source": [
        "- Preamble is where we import the Python modules that we will use"
      ]
    },
    {
      "cell_type": "code",
      "execution_count": 9,
      "metadata": {
        "id": "KN7x2o26x9mN"
      },
      "outputs": [],
      "source": [
        "import numpy as np\n",
        "import matplotlib.pyplot as plt\n",
        "from mpl_toolkits.mplot3d import Axes3D\n",
        "from scipy.ndimage import gaussian_filter\n",
        "\n",
        "plt.rcParams['figure.figsize'] = [7.5, 7.5] # This is to adjust the image size on Jupyter"
      ]
    },
    {
      "cell_type": "markdown",
      "source": [
        "- Utility functions for undirected connectection graph function"
      ],
      "metadata": {
        "id": "iWy_kigLxVWM"
      }
    },
    {
      "cell_type": "code",
      "execution_count": 10,
      "metadata": {
        "id": "rDi_xZ-f4tfO"
      },
      "outputs": [],
      "source": [
        "  def undirectedconnectiongraph(xnum=30, ynum=30):\n",
        "    G = {'V':[], 'E':[]} # We will use a dictionary for simplicity\n",
        "    for xind in range(xnum):\n",
        "      for yind in range(ynum):\n",
        "        G['V'].append((xind, yind))\n",
        "\n",
        "    # Traverse north first\n",
        "    for pt in G['V']:\n",
        "      vtn = north(pt[0], pt[1])\n",
        "      if isvertex(vtn, G['V']):\n",
        "        G['E'].append((pt, vtn))\n",
        "\n",
        "    # Traverse east second\n",
        "    for pt in G['V']:\n",
        "      vte = east(pt[0], pt[1])\n",
        "      if isvertex(vte, G['V']):\n",
        "        G['E'].append((pt, vte))\n",
        "    return G\n",
        "\n",
        "  def north(xind, yind):\n",
        "    node = (xind, yind + 1)\n",
        "    return node\n",
        "\n",
        "  def south(xind, yind):\n",
        "    node = (xind, yind - 1)\n",
        "    return node\n",
        "\n",
        "  def east(xind, yind):\n",
        "    node = (xind + 1, yind)\n",
        "    return node\n",
        "\n",
        "  def west(xind, yind):\n",
        "    node = (xind - 1, yind)\n",
        "    return node\n",
        "\n",
        "  def isvertex(node, vertices):\n",
        "    return node in vertices\n",
        "\n",
        "  def randomnode(vertices):\n",
        "    vertices = list(vertices)\n",
        "    randind = np.random.randint(0, len(vertices))\n",
        "    return vertices[randind]"
      ]
    },
    {
      "cell_type": "markdown",
      "source": [
        "# Utility functions for Prims Maze algorithm"
      ],
      "metadata": {
        "id": "YmhRyo3Q0k6O"
      }
    },
    {
      "cell_type": "code",
      "source": [
        "def inSet(element,Set):  # Determine if the given element is in the given set\n",
        "  for s in Set:          # Returns true if found\n",
        "    if(element == s):\n",
        "      return True\n",
        "  return False\n",
        "\n",
        "def endIntersect(set1,set2): # Determine if two given ends intersects\n",
        "  count =0\n",
        "  for s1 in set1:\n",
        "    for s2 in set2:\n",
        "      if(s1 == s2):\n",
        "         count += 1\n",
        "  return count\n",
        "\n",
        "def intersectionSize(l, C): # Determine the intersection length\n",
        "  count = 0\n",
        "  if(inSet(l[0],C)):\n",
        "    count +=1\n",
        "  if(inSet(l[1],C)):\n",
        "    count +=1\n",
        "  return count"
      ],
      "metadata": {
        "id": "IhpNHz8Sxf6e"
      },
      "execution_count": 11,
      "outputs": []
    },
    {
      "cell_type": "markdown",
      "source": [
        "## Prims Maze"
      ],
      "metadata": {
        "id": "792-WHfCxkCs"
      }
    },
    {
      "cell_type": "code",
      "source": [
        "def pimmsmaze(xnum=30, ynum=30):\n",
        "  assert(type(xnum) == int and type(ynum) == int) # Assertions\n",
        "  assert(xnum > 0 and ynum > 0)                   # Both inputs must be positive integers\n",
        "\n",
        "  G = undirectedconnectiongraph(xnum, ynum)       # Construct the undirected connection graph with the given parameters\n",
        "  W = set(G['E'].copy())                          # Initialize walls\n",
        "  V = set(G['V'].copy())                          # Initialize edges\n",
        "\n",
        "  L = set()                                       # Set of walls to check out, initally empty\n",
        "  C = set()                                       # Visited Cells, initally empty\n",
        "  c = randomnode(V)                               # select c in V randomly\n",
        "\n",
        "  for w in W:                                     # Initalize L with the neighbors of c\n",
        "    if(inSet(c,w)):\n",
        "      L.add(w)\n",
        "\n",
        "  while len(L):\n",
        "    l = randomnode(L)                           # Select l in L randomly\n",
        "    if(intersectionSize(l,C) <=1):                          # |ends(l) n C| <=1\n",
        "      C.add(l[0])                               # C <- C u ends(l)\n",
        "      C.add(l[1])\n",
        "      W.remove(l)                               # Remove the wall\n",
        "      for w in W:\n",
        "        if(endIntersect(l,w)):\n",
        "          if(inSet(w,L) != True):\n",
        "            L.add(w)                          # Add the neighbouring walls\n",
        "    L.remove(l)\n",
        "\n",
        "  P = {'V':[], 'E':[]}\n",
        "  P['V'] = G['V'].copy()\n",
        "  P['E'] = list(W)\n",
        "  return P"
      ],
      "metadata": {
        "id": "V6TAsdRC0m-p"
      },
      "execution_count": 12,
      "outputs": []
    },
    {
      "cell_type": "markdown",
      "source": [
        "# Plotting the Prims Maze"
      ],
      "metadata": {
        "id": "J4AtHQ-P1Rrp"
      }
    },
    {
      "cell_type": "code",
      "source": [
        "def getWalls(P):\n",
        "  walls = []\n",
        "  for e in P['E']:\n",
        "      vec = np.array([e[1][0]-e[0][0], e[1][1]-e[0][1]])\n",
        "      ort = np.array([-vec[1], vec[0]])\n",
        "      olen = np.linalg.norm(ort)\n",
        "      ort = ort / olen\n",
        "      sum = np.array([(e[1][0]+e[0][0])/2, (e[1][1]+e[0][1])/2])\n",
        "      startp = sum - ort / 2\n",
        "      endp = sum + ort / 2\n",
        "      walls.append(((startp[0], startp[1]), (endp[0], endp[1])))\n",
        "  return walls\n",
        "def removeedges(edges,walls):\n",
        "  for w in walls:\n",
        "    x = w[0]\n",
        "    y = w[1]\n",
        "    ort = ((x[0]+y[0])/2,(x[1]+y[1])/2)\n",
        "    if(x[0] == y[0]):##vertical\n",
        "      edges.remove(((ort[0]-0.5,ort[1]),(ort[0]+0.5,ort[1])))\n",
        "    else:\n",
        "      edges.remove(((ort[0],ort[1]-0.5),(ort[0],ort[1]+0.5)))\n",
        "\n",
        "  return edges\n",
        "def plotgraph(vertices, edges): ## Plots the graph with edge weights in manhattan weight\n",
        "  x, y = [], []\n",
        "  for v in vertices:\n",
        "    x.append(v[0])\n",
        "    y.append(v[1])\n",
        "\n",
        "  plt.scatter(np.array(x), np.array(y))\n",
        "  plt.axis('equal')  # Equal aspect ratio\n",
        "  for e in edges:\n",
        "    plt.plot([e[0][0], e[1][0]], [e[0][1], e[1][1]], 'm')\n",
        "    x = (e[0][0]+e[1][0])/2\n",
        "    y = (e[0][1]+e[1][1])/2\n",
        "    ## Weight of an edge in manhattan metric\n",
        "\n",
        "def plotwalls(vertices, edges): ## Plots the graph with edge weights in manhattan weight\n",
        "  x, y = [], []\n",
        "  for v in vertices:\n",
        "    x.append(v[0])\n",
        "    y.append(v[1])\n",
        "  plt.axis('equal')  # Equal aspect ratio\n",
        "  for e in edges:\n",
        "    plt.plot([e[0][0], e[1][0]], [e[0][1], e[1][1]], 'k',linewidth=10)\n",
        "\n",
        "def plotPath(vertices,edges,start,end): ## Plots the calculated path from the start and end vertices\n",
        "  x, y = [], []\n",
        "  for v in vertices:\n",
        "    x.append(v[0])\n",
        "    y.append(v[1])\n",
        "    plt.scatter(np.array(x), np.array(y))\n",
        "    plt.axis('equal')  # Equal aspect ratio\n",
        "  for e in edges:\n",
        "    plt.plot([e[0][0], e[1][0]], [e[0][1], e[1][1]], 'k')\n",
        "    plt.text(start[0], start[1], 'Start', verticalalignment='bottom', horizontalalignment='right', color='blue')\n",
        "    plt.text(end[0], end[1], 'End', verticalalignment='bottom', horizontalalignment='right', color='blue')\n",
        "## A matrix class to store the distance between vertices this class implements g(s->r) function in A-Star and distance function in Dijkstra\n",
        "class weightMatrix:\n",
        "    def __init__(self,vertices):\n",
        "      self.vertices = vertices\n",
        "      self.matrix = []\n",
        "      for i in range(len(vertices)):\n",
        "        self.matrix.append([np.inf]*len(vertices))\n",
        "\n",
        "    def __getitem__(self, index):\n",
        "        s,v = index\n",
        "        return self.matrix[self.vertices.index(s)][self.vertices.index(v)]\n",
        "\n",
        "    def __setitem__(self, index, value):\n",
        "        s,v = index\n",
        "        self.matrix[self.vertices.index(s)][self.vertices.index(v)] = value\n",
        "\n",
        "#Heuristic measure takes the max of the vertical\n",
        "#and horizontal distance to goal vertex\n",
        "def h(v,r):\n",
        "  return max(abs(r[0]-v[0]),abs(r[1]-v[1]))\n",
        "\n",
        "#Weight of and edge in manhattan metric\n",
        "def manhattanDistance(v,u):\n",
        "  return abs(v[0]-u[0])+ abs(v[1]-u[1])\n",
        "\n",
        "#Return the vertices that can be accessed from the selected vertice, similar to neighbour\n",
        "def getSuccessors(selectedVertice,edges,vertices):\n",
        "  successorList = []\n",
        "  for e in edges:\n",
        "    if(e[0] == selectedVertice and e[1] in vertices):\n",
        "      if(not(e[1] in successorList)):\n",
        "        successorList.append(e[1])\n",
        "    elif(e[1] == selectedVertice and e[0] in vertices):\n",
        "      if(not(e[0] in successorList)):\n",
        "        successorList.append(e[0])\n",
        "  return successorList\n",
        "\n",
        "def calculatePathFromMapping(res,s,r): ## Calculate the path from the result of A* or Dijkstra Algorithm\n",
        "  prev = res[r]\n",
        "  steps = []\n",
        "  steps.append(r)\n",
        "  steps.append(prev)\n",
        "  while(prev != s):\n",
        "    prev = res[prev]\n",
        "    steps.append(prev)\n",
        "\n",
        "  travelledEdges = []\n",
        "  for i in range(len(steps)-1):\n",
        "    travelledEdges.append(((steps[i]),(steps[i+1])))\n",
        "  return steps,travelledEdges\n",
        "def aStar(vertices,edges,s,r):\n",
        "  g = weightMatrix(vertices) #function g(s->v)\n",
        "  S = []  #OpenList S\n",
        "  pi = {} #Mapping pi: V -> V\n",
        "  for v in vertices:\n",
        "    pi[v] = None\n",
        "    g[s,v] = np.inf\n",
        "  g[s, s] = 0\n",
        "  S.append(s)\n",
        "  g[s,r] = h(s,r) ## Precalculate h(s,r)\n",
        "  selectedVertice = s ##First start with the starting vertice\n",
        "  while len(S) != 0:\n",
        "    minWeight = np.inf\n",
        "    for vPrime in S:  ##Find the vertice that minimizes g[s,vPrime]+ h(vPrime,r)\n",
        "      if(vPrime != s):\n",
        "        if((g[s,vPrime]+ h(vPrime,r) )< minWeight ):\n",
        "          minWeight = g[s,vPrime]+ h(vPrime,r)\n",
        "          selectedVertice = vPrime\n",
        "\n",
        "    if(selectedVertice == r and g[selectedVertice,r]< np.inf): ## If the target vertice is reached, terminate\n",
        "      return pi\n",
        "\n",
        "    if(selectedVertice in S): ## S <- S \\ {v}\n",
        "       S.pop(S.index(selectedVertice))\n",
        "\n",
        "    for u in getSuccessors(selectedVertice,edges,vertices): ## For each successor of selectedVertice\n",
        "      if(pi[u] == None): ## If it is NIL then open u\n",
        "        if(not (u in S)): ## S <- S U {u}\n",
        "          S.append(u)\n",
        "        g[s,u] = g[s,selectedVertice] + manhattanDistance(selectedVertice,u) ## Update the weight\n",
        "        pi[u] = selectedVertice   ##Update the mapping\n",
        "        g[u,r] = h(u,r)   ##Precalculate h(u,r)\n",
        "\n",
        "      elif((u in S) and ((g[s,selectedVertice] + manhattanDistance(selectedVertice,u)) < g[s,u])): ## g(s->v) + weight(v,u) < g(s->u) then open u\n",
        "        if(not (u in S)): ## S <- S U {u}\n",
        "          S.append(u)\n",
        "        g[s,u] = g[s,selectedVertice] + manhattanDistance(selectedVertice,u) ## Update the weight\n",
        "        pi[u] = selectedVertice ##Update the mapping\n",
        "        g[u,r] = h(u,r) ##Precalculate h(u,r)"
      ],
      "metadata": {
        "id": "IijIZmlJGzLR"
      },
      "execution_count": 13,
      "outputs": []
    },
    {
      "cell_type": "code",
      "source": [
        "dim = 10\n",
        "P = pimmsmaze(dim, dim)\n",
        "G = undirectedconnectiongraph(dim, dim)\n",
        "edges = G['E']\n",
        "vertices = P['V']\n",
        "walls = getWalls(P)\n",
        "graph = removeedges(edges,walls)\n",
        "plotgraph(vertices,graph)\n",
        "plotwalls(vertices,walls)\n"
      ],
      "metadata": {
        "colab": {
          "base_uri": "https://localhost:8080/",
          "height": 638
        },
        "id": "S28pp-CabU5h",
        "outputId": "b482333d-37d3-4232-f76e-da18fde8d684"
      },
      "execution_count": 14,
      "outputs": [
        {
          "output_type": "display_data",
          "data": {
            "text/plain": [
              "<Figure size 750x750 with 1 Axes>"
            ],
            "image/png": "[encoded data removed]"
          },
          "metadata": {}
        }
      ]
    },
    {
      "cell_type": "code",
      "source": [
        "start = (0,0)\n",
        "end = (9,0)\n",
        "result = aStar(vertices,graph,start,end)\n",
        "steps,travelledEdges = calculatePathFromMapping(result,start,end)\n",
        "\n",
        "plotwalls(vertices,walls)\n",
        "plotPath(steps, travelledEdges,start,end)"
      ],
      "metadata": {
        "colab": {
          "base_uri": "https://localhost:8080/",
          "height": 638
        },
        "id": "cHnkin1AJE5r",
        "outputId": "8a89cfc7-9fd1-4436-a472-5e1e016d7612"
      },
      "execution_count": 17,
      "outputs": [
        {
          "output_type": "display_data",
          "data": {
            "text/plain": [
              "<Figure size 750x750 with 1 Axes>"
            ],
            "image/png": "[encoded data removed]"
          },
          "metadata": {}
        }
      ]
    }
  ],
  "metadata": {
    "colab": {
      "provenance": [],
      "include_colab_link": true
    },
    "kernelspec": {
      "display_name": "Python 3",
      "name": "python3"
    },
    "language_info": {
      "name": "python"
    }
  },
  "nbformat": 4,
  "nbformat_minor": 0
}