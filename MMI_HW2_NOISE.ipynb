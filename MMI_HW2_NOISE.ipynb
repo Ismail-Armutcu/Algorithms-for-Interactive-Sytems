{
  "nbformat": 4,
  "nbformat_minor": 0,
  "metadata": {
    "colab": {
      "provenance": [],
      "authorship_tag": "ABX9TyPVqk3QoYnlXR8hngbZ/QV0",
      "include_colab_link": true
    },
    "kernelspec": {
      "name": "python3",
      "display_name": "Python 3"
    },
    "language_info": {
      "name": "python"
    }
  },
  "cells": [
    {
      "cell_type": "markdown",
      "metadata": {
        "id": "view-in-github",
        "colab_type": "text"
      },
      "source": [
        "<a href=\"https://colab.research.google.com/github/Ismail-Armutcu/Algorithms-for-Interactive-Sytems/blob/main/MMI_HW2_NOISE.ipynb\" target=\"_parent\"><img src=\"https://colab.research.google.com/assets/colab-badge.svg\" alt=\"Open In Colab\"/></a>"
      ]
    },
    {
      "cell_type": "markdown",
      "source": [
        "# **MMI513 Programming Assignment 2**\n",
        "## Noise\n",
        "- İsmail Hakkı Armutcu\n",
        "- 2374395"
      ],
      "metadata": {
        "id": "Zc_U8qSZfW6a"
      }
    },
    {
      "cell_type": "code",
      "source": [
        "import numpy as np\n",
        "import sys\n",
        "from random import seed, randint\n",
        "import matplotlib.pyplot as plt\n",
        "from math import isclose\n",
        "from scipy.spatial.distance import chebyshev as cheby"
      ],
      "metadata": {
        "id": "i3afm_TSfrgo"
      },
      "execution_count": 21,
      "outputs": []
    },
    {
      "cell_type": "code",
      "source": [
        "def lcg(modulus, a, c, seed):\n",
        "    seed = (a * seed + c) % modulus\n",
        "    return seed\n",
        "\n",
        "def bitsrequired(n):\n",
        "    if n==0:\n",
        "        numbits = 1\n",
        "    else:\n",
        "        n = abs(n)\n",
        "        numbits = int(1 + np.floor( np.log2( n + 1 ) ))\n",
        "    return numbits\n",
        "\n",
        "def noiserandom(N, m=2**21-1, S0=117456):\n",
        "    sval = morton(N) + S0\n",
        "    r = lcg(m, 413585, 1171173, sval)\n",
        "    s = r / (m+1)\n",
        "    return 2 * s - 1\n",
        "\n",
        "def morton(Z, b=None):\n",
        "    m = 1 # Left shifting bit mask\n",
        "    n = len(Z)\n",
        "    S = np.arange(n)\n",
        "    if b==None:\n",
        "        assert (Z>=0).all() # Check if all elements are non-negative\n",
        "        numbitsmin = bitsrequired(np.min(Z))\n",
        "        numbitsmax = bitsrequired(np.max(Z))\n",
        "        b = max(numbitsmin, numbitsmax)\n",
        "    r = 0\n",
        "    for c in range(b): # Repeat b times\n",
        "        for ind in range(n):\n",
        "            r = r | ((Z[ind] & m) << S[ind])\n",
        "            S[ind] += (n - 1)\n",
        "        m = m << 1\n",
        "    return r"
      ],
      "metadata": {
        "id": "Ue3xUJ7Lhle4"
      },
      "execution_count": 22,
      "outputs": []
    },
    {
      "cell_type": "code",
      "source": [
        "def unitlerp(a0, a1, t):\n",
        "    # Linear interpolation with mixin weight, t\n",
        "    assert(t >= 0 and t <= 1)\n",
        "    return a0 * ( 1 - t ) + a1 * t\n",
        "def valueinterpolation1(a0, a1, t, infun):\n",
        "    return unitlerp(a0, a1, infun(t))\n",
        "\n",
        "def smootherstep(t):\n",
        "    assert (t<=1) and (t>=0)\n",
        "    return 6 * t**5 - 15 * t**4 + 10*t**3"
      ],
      "metadata": {
        "id": "2jEp6aZ4hS8d"
      },
      "execution_count": 23,
      "outputs": []
    },
    {
      "cell_type": "code",
      "source": [
        "def positioninunitcircle():\n",
        "    while True:\n",
        "        x = 2 * np.random.rand() - 1\n",
        "        y = 2 * np.random.rand() - 1\n",
        "        s = x**2 + y**2\n",
        "        if s>0 and s<1:\n",
        "            break\n",
        "    return x, y, s\n",
        "\n",
        "def randomnormal_01pair():\n",
        "    x, y, s = positioninunitcircle()\n",
        "    if isclose(s,0):\n",
        "        return np.array([0.,0.])\n",
        "    c = np.sqrt(-2*np.log(s)/s)\n",
        "    x0 = x * c\n",
        "    x1 = y * c\n",
        "    return np.array([x0, x1])\n",
        "\n",
        "def randomonunitsphere(numdim, seed):\n",
        "    np.random.seed(seed)\n",
        "    d = numdim\n",
        "    R = np.zeros(numdim)\n",
        "    xi = 0\n",
        "    while 2<=d:\n",
        "        d -= 2\n",
        "        x, y, s = positioninunitcircle()\n",
        "        if isclose(s,0):\n",
        "            R[d] = 0\n",
        "            R[d + 1] = 0\n",
        "        else:\n",
        "            q = -2 * np.log(s)\n",
        "            xi += q\n",
        "            c = np.sqrt(q/s)\n",
        "            R[d] = x * c\n",
        "            R[d + 1] = y * c\n",
        "    if d==1:\n",
        "        x, y, s = positioninunitcircle()\n",
        "        if isclose(s,0):\n",
        "            R[0] = 0\n",
        "        else:\n",
        "            R[0] = x * np.sqrt(-2 * np.log(s) / s)\n",
        "            xi += R[0]**2\n",
        "    if isclose(xi, 0):\n",
        "        return randomonunitsphere(numdim)\n",
        "    R /= np.sqrt(xi)\n",
        "    return R\n",
        "\n",
        "def noiserandomvector(N, n):\n",
        "    seed = morton(N)\n",
        "    R = randomonunitsphere(n, seed)\n",
        "    return R\n",
        "\n",
        "def noiseperlin(x, y):\n",
        "    assert x>=0 and y>=0\n",
        "    xw = np.floor(x)\n",
        "    yw = np.floor(y)\n",
        "    xf = x - xw\n",
        "    yf = y - yw\n",
        "    a00 = noiserandomvector(np.array([xw, yw], np.int32), 2)\n",
        "    a10 = noiserandomvector(np.array([xw + 1, yw], np.int32), 2)\n",
        "    a01 = noiserandomvector(np.array([xw, yw + 1], np.int32), 2)\n",
        "    a11 = noiserandomvector(np.array([xw + 1, yw + 1], np.int32), 2)\n",
        "    pt = np.array([x, y])\n",
        "    v00 = pt - np.array([xw, yw])\n",
        "    v10 = pt - np.array([xw + 1, yw])\n",
        "    v01 = pt - np.array([xw, yw + 1])\n",
        "    v11 = pt - np.array([xw + 1, yw + 1])\n",
        "    d00 = np.sum(a00 * v00)\n",
        "    d01 = np.sum(a01 * v01)\n",
        "    d10 = np.sum(a10 * v10)\n",
        "    d11 = np.sum(a11 * v11)\n",
        "    ds0 = valueinterpolation1(d00, d10, xf, smootherstep)\n",
        "    ds1 = valueinterpolation1(d01, d11, xf, smootherstep)\n",
        "    val = valueinterpolation1(ds0, ds1, yf, smootherstep)\n",
        "    return val\n",
        "\n",
        "def vanillaperlin(xmin, xmax, ymin, ymax, Kx, Ky):\n",
        "    img = np.zeros((Kx, Ky))\n",
        "    xgrid = np.linspace(xmin, xmax, Kx)\n",
        "    ygrid = np.linspace(ymin, ymax, Ky)\n",
        "    for ind in range(Kx):\n",
        "        for jnd in range(Ky):\n",
        "            img[ind, jnd] = noiseperlin(xgrid[ind], ygrid[jnd])\n",
        "    return img\n",
        "\n",
        "def composedperlin(xmin, xmax, ymin, ymax, Kx, Ky, l, a0, f0):\n",
        "    r = np.zeros((Kx, Ky))\n",
        "    rmax = np.zeros((Kx, Ky))\n",
        "    for ind in range(l):\n",
        "        a = a0**ind\n",
        "        f = f0**ind\n",
        "        r = r + a * vanillaperlin(xmin * f, xmax * f, ymin * f, ymax * f, Kx, Ky)\n",
        "        rmax = rmax + a\n",
        "    return r / rmax\n",
        "\n",
        "def turbulencedperlin(xmin, xmax, ymin, ymax, Kx, Ky, l, a0, f0):\n",
        "    r = np.zeros((Kx, Ky))\n",
        "    rmax = np.zeros((Kx, Ky))\n",
        "    for ind in range(l):\n",
        "        a = a0**ind\n",
        "        f = f0**ind\n",
        "        r = r + np.abs(a * vanillaperlin(xmin * f, xmax * f, ymin * f, ymax * f, Kx, Ky))\n",
        "        rmax = rmax + a\n",
        "    return r / rmax"
      ],
      "metadata": {
        "id": "HUNaQJOYguZL"
      },
      "execution_count": 24,
      "outputs": []
    },
    {
      "cell_type": "code",
      "source": [
        "img = vanillaperlin(0, 5, 0, 5, 100, 100)\n",
        "plt.matshow(img, cmap='gray', interpolation='none')\n",
        "ax = plt.gca()\n",
        "ax.set_xticks(np.arange(0, 100, 20))\n",
        "ax.set_yticks(np.arange(0, 100, 20))\n",
        "ax.set_xticklabels(np.arange(0, 5, 1))\n",
        "ax.set_yticklabels(np.arange(0, 5, 1))\n",
        "plt.show()"
      ],
      "metadata": {
        "id": "uOYdWbkrgy0q"
      },
      "execution_count": null,
      "outputs": []
    },
    {
      "cell_type": "code",
      "source": [
        "img = composedperlin(0, 5, 0, 5, 100, 100, 3, 0.5, np.sqrt(5))\n",
        "plt.matshow(img, cmap='gray', interpolation='none')\n",
        "ax = plt.gca()\n",
        "ax.set_xticks(np.arange(0, 100, 20))\n",
        "ax.set_yticks(np.arange(0, 100, 20))\n",
        "ax.set_xticklabels(np.arange(0, 5, 1))\n",
        "ax.set_yticklabels(np.arange(0, 5, 1))\n",
        "plt.show()"
      ],
      "metadata": {
        "id": "t1R5N4APh160"
      },
      "execution_count": null,
      "outputs": []
    },
    {
      "cell_type": "code",
      "source": [
        "fig = plt.figure()\n",
        "ax = plt.axes(projection='3d')\n",
        "x = np.linspace(0, 1, img.shape[0])\n",
        "y = np.linspace(0, 1, img.shape[1])\n",
        "xx, yy = np.meshgrid(x, y)\n",
        "ax.plot_surface(xx, yy, img,cmap='viridis', edgecolor='none')\n",
        "ax.set_title('Perlin noise as the height map of a rocky terrain')\n",
        "plt.show()"
      ],
      "metadata": {
        "id": "q61RF5GBh65-"
      },
      "execution_count": null,
      "outputs": []
    },
    {
      "cell_type": "code",
      "source": [
        "img = turbulencedperlin(0, 5, 0, 5, 100, 100, 3, 0.5, np.sqrt(5))\n",
        "plt.matshow(img, cmap='gray', interpolation='none')\n",
        "ax = plt.gca()\n",
        "ax.set_xticks(np.arange(0, 100, 20))\n",
        "ax.set_yticks(np.arange(0, 100, 20))\n",
        "ax.set_xticklabels(np.arange(0, 5, 1))\n",
        "ax.set_yticklabels(np.arange(0, 5, 1))\n",
        "plt.show()"
      ],
      "metadata": {
        "id": "9PZPtbxjh9-4"
      },
      "execution_count": null,
      "outputs": []
    }
  ]
}