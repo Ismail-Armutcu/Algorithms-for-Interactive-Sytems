{
  "cells": [
    {
      "cell_type": "markdown",
      "metadata": {
        "id": "view-in-github",
        "colab_type": "text"
      },
      "source": [
        "<a href=\"https://colab.research.google.com/github/Ismail-Armutcu/Algorithms-for-Interactive-Sytems/blob/main/MMI513_PA3.ipynb\" target=\"_parent\"><img src=\"https://colab.research.google.com/assets/colab-badge.svg\" alt=\"Open In Colab\"/></a>"
      ]
    },
    {
      "cell_type": "markdown",
      "metadata": {
        "id": "VTDba6pgyB33"
      },
      "source": [
        "# **MMI-513 Programming Assignment #3**\n",
        "# Procedural Content Generation\n",
        "## Maze Generation\n",
        "### Prims Maze Implementation\n",
        "\n",
        "- İsmail Hakkı Armutcu\n",
        "- 2374395\n",
        "\n"
      ]
    },
    {
      "cell_type": "markdown",
      "metadata": {
        "id": "sUyvmRSwyGH_"
      },
      "source": [
        "- Preamble is where we import the Python modules that we will use"
      ]
    },
    {
      "cell_type": "code",
      "execution_count": 6,
      "metadata": {
        "id": "KN7x2o26x9mN"
      },
      "outputs": [],
      "source": [
        "import numpy as np\n",
        "import matplotlib.pyplot as plt\n",
        "from mpl_toolkits.mplot3d import Axes3D\n",
        "from scipy.ndimage import gaussian_filter\n",
        "\n",
        "plt.rcParams['figure.figsize'] = [7.5, 7.5] # This is to adjust the image size on Jupyter"
      ]
    },
    {
      "cell_type": "markdown",
      "source": [
        "- Utility functions for undirected connectection graph function"
      ],
      "metadata": {
        "id": "iWy_kigLxVWM"
      }
    },
    {
      "cell_type": "code",
      "execution_count": 7,
      "metadata": {
        "id": "rDi_xZ-f4tfO"
      },
      "outputs": [],
      "source": [
        "  def undirectedconnectiongraph(xnum=30, ynum=30):\n",
        "    G = {'V':[], 'E':[]} # We will use a dictionary for simplicity\n",
        "    for xind in range(xnum):\n",
        "      for yind in range(ynum):\n",
        "        G['V'].append((xind, yind))\n",
        "\n",
        "    # Traverse north first\n",
        "    for pt in G['V']:\n",
        "      vtn = north(pt[0], pt[1])\n",
        "      if isvertex(vtn, G['V']):\n",
        "        G['E'].append((pt, vtn))\n",
        "\n",
        "    # Traverse east second\n",
        "    for pt in G['V']:\n",
        "      vte = east(pt[0], pt[1])\n",
        "      if isvertex(vte, G['V']):\n",
        "        G['E'].append((pt, vte))\n",
        "    return G\n",
        "\n",
        "  def north(xind, yind):\n",
        "    node = (xind, yind + 1)\n",
        "    return node\n",
        "\n",
        "  def south(xind, yind):\n",
        "    node = (xind, yind - 1)\n",
        "    return node\n",
        "\n",
        "  def east(xind, yind):\n",
        "    node = (xind + 1, yind)\n",
        "    return node\n",
        "\n",
        "  def west(xind, yind):\n",
        "    node = (xind - 1, yind)\n",
        "    return node\n",
        "\n",
        "  def isvertex(node, vertices):\n",
        "    return node in vertices\n",
        "\n",
        "  def plotgraph(G, vertexflag=True):\n",
        "    for e in G['E']:\n",
        "      vec = np.array([e[1][0]-e[0][0], e[1][1]-e[0][1]])\n",
        "      ort = np.array([-vec[1], vec[0]])\n",
        "      olen = np.linalg.norm(ort)\n",
        "      ort = ort / olen\n",
        "      sum = np.array([(e[1][0]+e[0][0])/2, (e[1][1]+e[0][1])/2])\n",
        "      startp = sum - ort / 2\n",
        "      endp = sum + ort / 2\n",
        "      plt.plot((startp[0], endp[0]), (startp[1], endp[1]), 'k', linewidth=10)\n",
        "      if vertexflag:\n",
        "        for v in G['V']:\n",
        "          plt.plot(float(v[0]), float(v[1]), 'ro')\n",
        "    plt.axis('square')\n",
        "    plt.show()\n",
        "\n",
        "  def randomnode(vertices):\n",
        "    vertices = list(vertices)\n",
        "    randind = np.random.randint(0, len(vertices))\n",
        "    return vertices[randind]"
      ]
    },
    {
      "cell_type": "markdown",
      "source": [
        "# Utility functions for Prims Maze algorithm"
      ],
      "metadata": {
        "id": "YmhRyo3Q0k6O"
      }
    },
    {
      "cell_type": "code",
      "source": [
        "def inSet(element,Set):  # Determine if the given element is in the given set\n",
        "  for s in Set:          # Returns true if found\n",
        "    if(element == s):\n",
        "      return True\n",
        "  return False\n",
        "\n",
        "def endIntersect(set1,set2): # Determine if two given ends intersects\n",
        "  count =0\n",
        "  for s1 in set1:\n",
        "    for s2 in set2:\n",
        "      if(s1 == s2):\n",
        "         count += 1\n",
        "  return count\n",
        "\n",
        "def intersectionSize(l, C): # Determine the intersection length\n",
        "  count = 0\n",
        "  if(inSet(l[0],C)):\n",
        "    count +=1\n",
        "  if(inSet(l[1],C)):\n",
        "    count +=1\n",
        "  return count"
      ],
      "metadata": {
        "id": "IhpNHz8Sxf6e"
      },
      "execution_count": 8,
      "outputs": []
    },
    {
      "cell_type": "markdown",
      "source": [
        "## Prims Maze"
      ],
      "metadata": {
        "id": "792-WHfCxkCs"
      }
    },
    {
      "cell_type": "code",
      "source": [
        "def pimmsmaze(xnum=30, ynum=30):\n",
        "  assert(type(xnum) == int and type(ynum) == int) # Assertions\n",
        "  assert(xnum > 0 and ynum > 0)                   # Both inputs must be positive integers\n",
        "\n",
        "  G = undirectedconnectiongraph(xnum, ynum)       # Construct the undirected connection graph with the given parameters\n",
        "  W = set(G['E'].copy())                          # Initialize walls\n",
        "  V = set(G['V'].copy())                          # Initialize edges\n",
        "\n",
        "  L = set()                                       # Set of walls to check out, initally empty\n",
        "  C = set()                                       # Visited Cells, initally empty\n",
        "  c = randomnode(V)                               # select c in V randomly\n",
        "\n",
        "  for w in W:                                     # Initalize L with the neighbors of c\n",
        "    if(inSet(c,w)):\n",
        "      L.add(w)\n",
        "\n",
        "  while len(L):\n",
        "    l = randomnode(L)                           # Select l in L randomly\n",
        "    if(intersectionSize(l,C) <=1):                          # |ends(l) n C| <=1\n",
        "      C.add(l[0])                               # C <- C u ends(l)\n",
        "      C.add(l[1])\n",
        "      W.remove(l)                               # Remove the wall\n",
        "      for w in W:\n",
        "        if(endIntersect(l,w)):\n",
        "          if(inSet(w,L) != True):\n",
        "            L.add(w)                          # Add the neighbouring walls\n",
        "    L.remove(l)\n",
        "\n",
        "  P = {'V':[], 'E':[]}\n",
        "  P['V'] = G['V'].copy()\n",
        "  P['E'] = list(W)\n",
        "  return P"
      ],
      "metadata": {
        "id": "V6TAsdRC0m-p"
      },
      "execution_count": 9,
      "outputs": []
    },
    {
      "cell_type": "markdown",
      "source": [
        "# Plotting the Prims Maze"
      ],
      "metadata": {
        "id": "J4AtHQ-P1Rrp"
      }
    },
    {
      "cell_type": "code",
      "source": [
        "P = pimmsmaze(30, 30)     # Construct the Prims Maze\n",
        "\n",
        "\n",
        "plt.title('Prim Maze')\n",
        "plt.rcParams['figure.figsize'] = [15, 15] # This is to adjust the image size on Jupyter\n",
        "plotgraph(P, False)     # Plot the Prims Maze"
      ],
      "metadata": {
        "id": "DTvtiiuz1WNL",
        "outputId": "9e72671f-db1d-4a8f-eb7a-53fb95ed8749",
        "colab": {
          "base_uri": "https://localhost:8080/",
          "height": 1000
        }
      },
      "execution_count": 11,
      "outputs": [
        {
          "output_type": "display_data",
          "data": {
            "text/plain": [
              "<Figure size 1500x1500 with 1 Axes>"
            ],
            "image/png": "[encoded data removed]"
          },
          "metadata": {}
        }
      ]
    }
  ],
  "metadata": {
    "colab": {
      "provenance": [],
      "include_colab_link": true
    },
    "kernelspec": {
      "display_name": "Python 3",
      "name": "python3"
    },
    "language_info": {
      "name": "python"
    }
  },
  "nbformat": 4,
  "nbformat_minor": 0
}