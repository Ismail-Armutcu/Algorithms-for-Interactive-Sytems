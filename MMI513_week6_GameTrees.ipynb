{
  "nbformat": 4,
  "nbformat_minor": 0,
  "metadata": {
    "colab": {
      "provenance": [],
      "include_colab_link": true
    },
    "kernelspec": {
      "name": "python3",
      "display_name": "Python 3"
    },
    "language_info": {
      "name": "python"
    }
  },
  "cells": [
    {
      "cell_type": "markdown",
      "metadata": {
        "id": "view-in-github",
        "colab_type": "text"
      },
      "source": [
        "<a href=\"https://colab.research.google.com/github/Ismail-Armutcu/Algorithms-for-Interactive-Sytems/blob/ders_kod/MMI513_week6_GameTrees.ipynb\" target=\"_parent\"><img src=\"https://colab.research.google.com/assets/colab-badge.svg\" alt=\"Open In Colab\"/></a>"
      ]
    },
    {
      "cell_type": "markdown",
      "source": [
        "# **Week 6: Game Trees**\n",
        "\n",
        "- Game Trees are used to model decision-making scenarios where a player has to choose a move that leads to the most favorable outcome. These trees are commonly used in games like chess, checkers, and tic-tac-toe, among others.\n",
        "\n",
        "- In this notebook, we will be using Python to implement the above-mentioned search algorithms to traverse the Game Trees and determine the best move for the player. We will be providing code examples for each algorithm along with explanations of how they work."
      ],
      "metadata": {
        "id": "rtFWgZwUFRLC"
      }
    },
    {
      "cell_type": "markdown",
      "source": [
        "## Preamble"
      ],
      "metadata": {
        "id": "erD_ylGfriPa"
      }
    },
    {
      "cell_type": "code",
      "source": [
        "from enum import Enum\n",
        "from numpy import Inf\n",
        "from numpy.random import choice as randomchoice"
      ],
      "metadata": {
        "id": "wKkc3ZbXKePz"
      },
      "execution_count": null,
      "outputs": []
    },
    {
      "cell_type": "markdown",
      "source": [
        "## **Node and Tree classes**"
      ],
      "metadata": {
        "id": "Te7cQ5xfrmEH"
      }
    },
    {
      "cell_type": "markdown",
      "source": [
        "- Let us first design Node and Tree classes that will hold our data\n",
        "- We will also inherit from Enum and define a MinimaxLabel class."
      ],
      "metadata": {
        "id": "EY_CcCp0Mx7h"
      }
    },
    {
      "cell_type": "code",
      "execution_count": null,
      "metadata": {
        "id": "AKkbFJVfFNE7"
      },
      "outputs": [],
      "source": [
        "class MinimaxLabel(Enum):\n",
        "  MIN = -1\n",
        "  MAX = +1\n",
        "\n",
        "class Node(object):\n",
        "  def __init__(self):\n",
        "    self._value = 0\n",
        "    self._label = None\n",
        "    self._children = set()\n",
        "    # self._parent = None\n",
        "\n",
        "  def initnode(self, value=0, label=None, children=None):\n",
        "    self._value = value\n",
        "    self._label = label\n",
        "    if children == None:\n",
        "      self._children = set()\n",
        "    else:\n",
        "      for child in children:\n",
        "        self.addchildren(child)\n",
        "    #self._parent = parent\n",
        "\n",
        "  def setlabel(self, label):\n",
        "    self._label = label\n",
        "\n",
        "  def addchildren(self, node):\n",
        "    self._children.add(id(node))\n",
        "\n",
        "  def setchildren(self, nodeSet):\n",
        "    for node in nodeSet:\n",
        "      self._children.add = self.addchildren(node)\n",
        "\n",
        "  def setvalue(self, value):\n",
        "    self._value = value\n",
        "\n",
        "  def getid(self):\n",
        "    return id(self)\n",
        "\n",
        "  def getlabel(self):\n",
        "    return self._label\n",
        "\n",
        "  def getvalue(self):\n",
        "    return self._value\n",
        "\n",
        "  def getchildren(self):\n",
        "    return self._children\n",
        "\n",
        "  def _valuesfromnode(self, node):\n",
        "    self._value = node.getvalue()\n",
        "    self._label = node.getlabel()\n",
        "    self._children = node.getchildren()\n",
        "    #self._parent = node.getparent()\n",
        "\n",
        "  def copy(self):\n",
        "    cpnode = Node()\n",
        "    cpnode._valuesfromnode(self)\n",
        "    return cpnode\n",
        "\n",
        "class Tree(object):\n",
        "\n",
        "  def __init__(self):\n",
        "    self._nodes = dict()\n",
        "\n",
        "  def addnode(self, node):\n",
        "    self._nodes[id(node)] = node\n",
        "\n",
        "  def getnode(self, id):\n",
        "    return self._nodes[id]\n"
      ]
    },
    {
      "cell_type": "markdown",
      "source": [
        "## Testing code ✅"
      ],
      "metadata": {
        "id": "oH6HP8Psr6B-"
      }
    },
    {
      "cell_type": "markdown",
      "source": [
        "- Let us test various features\n",
        "- We will build a tree object from two nodes\n",
        "- We will demonstrate the useful feature of Python that each object has an ID which we can use to query it"
      ],
      "metadata": {
        "id": "WdLwb23kM8N2"
      }
    },
    {
      "cell_type": "code",
      "source": [
        "a = Node() # Create empty node\n",
        "a.setlabel(MinimaxLabel.MAX) # Set the label to MAX\n",
        "a.setvalue(-1) # Value is set as -1\n",
        "\n",
        "b = Node() # Create empty node\n",
        "b.setlabel(MinimaxLabel.MIN) # Set the label to MIN\n",
        "b.setvalue(1) # The value is +1\n",
        "\n",
        "a.addchildren(b) # Add the new node to a as a child\n",
        "\n",
        "gameTree = Tree() # Create empty tree\n",
        "gameTree.addnode(a) # Add node a\n",
        "gameTree.addnode(b) # Add node b\n",
        "\n",
        "print(list(gameTree._nodes.keys()), id(a), id(b)) # See that the nodes have diffent IDs hence refer to different Node objects"
      ],
      "metadata": {
        "colab": {
          "base_uri": "https://localhost:8080/"
        },
        "id": "1nwHr9S2FOo_",
        "outputId": "acfdedbf-2d7b-46bf-b97e-1c93c3e6a7f0"
      },
      "execution_count": null,
      "outputs": [
        {
          "output_type": "stream",
          "name": "stdout",
          "text": [
            "[138478520119360, 138478520120560] 138478520119360 138478520120560\n"
          ]
        }
      ]
    },
    {
      "cell_type": "markdown",
      "source": [
        "## **```minimax``` and ```negamax```**"
      ],
      "metadata": {
        "id": "DQGJ2CiGQJze"
      }
    },
    {
      "cell_type": "markdown",
      "source": [
        "- The following functions are implementations of the Minimax and Negamax algorithms for game trees in Python. Both algorithms are used to find the optimal move for a player in a two-player game tree, by recursively exploring the tree and selecting the move that maximizes or minimizes the potential outcome.\n",
        "\n",
        "- The `minimax` function takes in a tree object, representing the game tree, and a node object, representing the current node being evaluated. If the node is a leaf node, i.e. has no children, the function returns the value of the node. If the node is a MIN node, the function evaluates each child node using the minimax function and returns the minimum value. If the node is a MAX node, the function evaluates each child node using the minimax function and returns the maximum value.\n",
        "\n",
        "- The `negamax` function is a variant of the Minimax algorithm that uses negation to simplify the code. It takes in the same tree and node objects as minimax. If the node is a leaf node, the function returns the value of the node, negated if it is a MIN node. If the node is not a leaf node, the function evaluates each child node using the negamax function and returns the maximum value, negated.\n",
        "\n",
        "- Both functions are designed to be used with game trees that have nodes labeled with a `MinimaxLabel` enumeration, which can take on the values of `MIN` or `MAX`. The code assumes that the tree object has a method called getnode that takes in a node ID and returns a Node object representing that node`\n"
      ],
      "metadata": {
        "id": "39QMOz8Qu4FS"
      }
    },
    {
      "cell_type": "code",
      "source": [
        "def minimax(tree, node):\n",
        "  nd0 = tree.getnode(id(node))\n",
        "  if len(nd0.getchildren()) == 0: # Leaf node\n",
        "    return nd0.getvalue()\n",
        "  elif nd0.getlabel() == MinimaxLabel.MIN:\n",
        "    e = Inf\n",
        "    for nodeid in nd0.getchildren():\n",
        "      nd1 = tree.getnode(nodeid)\n",
        "      e = min(e, minimax(tree, nd1))\n",
        "    return e\n",
        "  else:\n",
        "    e = -Inf\n",
        "    for nodeid in nd0.getchildren():\n",
        "      nd1 = tree.getnode(nodeid)\n",
        "      e = max(e, minimax(tree, nd1))\n",
        "    return e\n",
        "\n",
        "def negamax(tree, node):\n",
        "  nd0 = tree.getnode(id(node))\n",
        "  if len(nd0.getchildren()) == 0: # Leaf node\n",
        "    l = nd0.getvalue()\n",
        "    if nd0.getlabel() == MinimaxLabel.MIN:\n",
        "      l = -l\n",
        "    return l\n",
        "  else:\n",
        "    e = -Inf\n",
        "    for nodeid in nd0.getchildren():\n",
        "      nd1 = tree.getnode(nodeid)\n",
        "      e = max(e, -negamax(tree, nd1))\n",
        "    return e"
      ],
      "metadata": {
        "id": "PPzE_fiSFpgq"
      },
      "execution_count": null,
      "outputs": []
    },
    {
      "cell_type": "markdown",
      "source": [
        "## Testing code ✅"
      ],
      "metadata": {
        "id": "oXbQ__zsvIJY"
      }
    },
    {
      "cell_type": "code",
      "source": [
        "gameTree = Tree()\n",
        "nd = []\n",
        "for ind in range(14):\n",
        "  ndi = Node()\n",
        "  nd.append(ndi)\n",
        "\n",
        "# Just knowing the result (i.e. the label) at the leaf nodes will give us the value for each\n",
        "# intermediate node\n",
        "\n",
        "nd[0].initnode(1, MinimaxLabel.MIN, None) # Leaf node\n",
        "nd[1].initnode(None, MinimaxLabel.MAX, {nd[0]})\n",
        "nd[2].initnode(-1, MinimaxLabel.MAX, None) # Leaf node\n",
        "nd[3].initnode(None, MinimaxLabel.MIN, {nd[1]})\n",
        "nd[4].initnode(None, MinimaxLabel.MIN, {nd[2]})\n",
        "nd[5].initnode(1, MinimaxLabel.MIN, None) # Leaf node\n",
        "nd[6].initnode(None, MinimaxLabel.MAX, {nd[3], nd[4]})\n",
        "nd[7].initnode(None, MinimaxLabel.MAX, {nd[4]})\n",
        "nd[8].initnode(None, MinimaxLabel.MAX, {nd[4]})\n",
        "nd[9].initnode(None, MinimaxLabel.MAX, {nd[5]})\n",
        "nd[10].initnode(None, MinimaxLabel.MIN, {nd[6], nd[7]})\n",
        "nd[11].initnode(None, MinimaxLabel.MIN, {nd[7], nd[8]})\n",
        "nd[12].initnode(None, MinimaxLabel.MIN, {nd[7], nd[9]})\n",
        "nd[13].initnode(None, MinimaxLabel.MAX, {nd[10], nd[11], nd[12]})\n",
        "\n",
        "for node in nd:\n",
        "  gameTree.addnode(node)\n",
        "\n",
        "e = minimax(gameTree, nd[13])\n",
        "print('minimax: ', e)\n",
        "\n",
        "e = negamax(gameTree, nd[13])\n",
        "print('negamax: ', e)"
      ],
      "metadata": {
        "colab": {
          "base_uri": "https://localhost:8080/"
        },
        "id": "6suARznTFsqT",
        "outputId": "5dda28a7-03d0-4c8b-a83e-37220d86de5d"
      },
      "execution_count": null,
      "outputs": [
        {
          "output_type": "stream",
          "name": "stdout",
          "text": [
            "minimax:  -1\n",
            "negamax:  -1\n"
          ]
        }
      ]
    },
    {
      "cell_type": "markdown",
      "source": [
        "# $\\alpha$-$\\beta$ pruning"
      ],
      "metadata": {
        "id": "FktMTXbZUWzM"
      }
    },
    {
      "cell_type": "markdown",
      "source": [
        "- `minimax_alphabeta` is a Python function that implements the minimax algorithm with alpha-beta pruning for game trees.\n",
        "- The purpose of this algorithm is to find the optimal move for a player in a two-player game, given a game tree that represents all possible moves and outcomes.\n",
        "- The algorithm works by recursively traversing the game tree, evaluating the values of the nodes as it goes, and making use of alpha-beta pruning to avoid exploring unnecessary parts of the tree.\n",
        "- The function takes three arguments: `tree`, which is an instance of the `Tree` class that represents the game tree; `node`, which is the current node being evaluated; `alpha` and `beta`, which are the current alpha and beta values for the node.\n",
        "- The function first checks if the current node is a leaf node, and if so, returns its value.\n",
        "- If the current node is a `MIN` node, the function iterates through its children, calling the `minimax_alphabeta` function recursively on each child node, updating the `beta` value if a better value is found, and pruning the search if beta is less than or equal to alpha.\n",
        "- If the current node is a `MAX` node, the function does the same thing, but updates the alpha value and prunes the search if `alpha` is greater than or equal to beta.\n",
        "- The function returns the best value found for the current node, which is either the minimum value of the child nodes (in the case of a `MIN` node) or the maximum value of the child nodes (in the case of a `MAX` node).\n",
        "- Overall, this algorithm is an optimization of the `minimax` algorithm, allowing it to explore fewer nodes and making it more efficient in large game trees."
      ],
      "metadata": {
        "id": "xEje3vR3vmdd"
      }
    },
    {
      "cell_type": "code",
      "source": [
        "def minimax_alphabeta(tree, node, alpha, beta):\n",
        "  nd0 = tree.getnode(id(node))\n",
        "  if len(nd0.getchildren()) == 0: # Leaf node\n",
        "    return nd0.getvalue()\n",
        "  elif nd0.getlabel() == MinimaxLabel.MIN: # MIN node\n",
        "      for nodeid in nd0.getchildren():\n",
        "        nd1 = tree.getnode(nodeid)\n",
        "        e = minimax_alphabeta(tree, nd1, alpha, beta)\n",
        "        if e < beta:\n",
        "          beta = e\n",
        "        if beta <= alpha:\n",
        "          return beta # Prune\n",
        "      return beta\n",
        "  else: # MAX node\n",
        "      for nodeid in nd0.getchildren():\n",
        "        nd1 = tree.getnode(nodeid)\n",
        "        e = minimax_alphabeta(tree, nd1, alpha, beta)\n",
        "        if alpha < e:\n",
        "          alpha = e\n",
        "        if beta <= alpha:\n",
        "          return alpha # Prune\n",
        "      return alpha"
      ],
      "metadata": {
        "id": "MIq8AJs1PAxr"
      },
      "execution_count": null,
      "outputs": []
    },
    {
      "cell_type": "markdown",
      "source": [
        "## Testing code ✅"
      ],
      "metadata": {
        "id": "NCF3PUBDwGk5"
      }
    },
    {
      "cell_type": "code",
      "source": [
        "gameTree = Tree()\n",
        "nd = []\n",
        "for ind in range(10):\n",
        "  ndi = Node()\n",
        "  nd.append(ndi)\n",
        "\n",
        "# Just knowing the result at the leaf nodes will give us the value for each\n",
        "# intermediate node\n",
        "\n",
        "nd[0].initnode(-3, MinimaxLabel.MIN, None) # Leaf node\n",
        "nd[1].initnode(-2, MinimaxLabel.MIN, None) # Leaf node\n",
        "nd[2].initnode(5, MinimaxLabel.MIN, None) # Leaf node\n",
        "nd[3].initnode(12, MinimaxLabel.MIN, None)\n",
        "nd[4].initnode(None, MinimaxLabel.MAX, {nd[0], nd[1]})\n",
        "nd[5].initnode(None, MinimaxLabel.MAX, {nd[2], nd[3]})\n",
        "nd[6].initnode(None, MinimaxLabel.MIN, {nd[4], nd[5]})\n",
        "nd[7].initnode(5, MinimaxLabel.MIN, None)\n",
        "nd[8].initnode(7, MinimaxLabel.MIN, None)\n",
        "nd[9].initnode(None, MinimaxLabel.MAX, {nd[6], nd[7], nd[8]})\n",
        "\n",
        "for node in nd:\n",
        "  gameTree.addnode(node)\n",
        "\n",
        "e = minimax_alphabeta(gameTree, nd[9], 2, 5)\n",
        "print(e)"
      ],
      "metadata": {
        "colab": {
          "base_uri": "https://localhost:8080/"
        },
        "id": "Qg23JuCRsZln",
        "outputId": "57881cfc-9855-4bbb-a24e-a5882b8fa1e0"
      },
      "execution_count": null,
      "outputs": [
        {
          "output_type": "stream",
          "name": "stdout",
          "text": [
            "7\n"
          ]
        }
      ]
    },
    {
      "cell_type": "markdown",
      "source": [
        "# Principal Variation Search\n",
        "\n",
        "- The `principalvariationsearch` function is an implementation of Principal Variation Search (PVS), which is a variant of the minimax algorithm that uses a technique called principal variation to search through the game tree more efficiently.\n",
        "- The function takes three arguments: tree is the game tree that we want to search, node is the current node in the game tree, and alpha and beta are the bounds on the possible scores of the node.\n",
        "- The function works recursively, starting from the current node and working down the game tree. If the current node is a leaf node, the function returns the value of the node. If the current node is a MAX node, the function tries to find the best move by searching through its children. If the current node is a MIN node, the function tries to find the worst move by searching through its children.\n",
        "- The function first selects a random child node to search. It then applies the negamax algorithm to search the principal variation (the path with the highest score) starting from this child node. The negamax algorithm returns the negation of the score, so the function negates it again to get the actual score.\n",
        "- After searching the principal variation, the function searches the other child nodes in turn, using alpha-beta pruning to eliminate branches that are guaranteed to be worse than the current best move.\n",
        "- If it finds a move that is better than the current best move, it updates the best move and continues the search."
      ],
      "metadata": {
        "id": "Ys587tgxWdng"
      }
    },
    {
      "cell_type": "code",
      "source": [
        "def principalvariationsearch(tree, node, alpha, beta):\n",
        "  nd0 = tree.getnode(id(node))\n",
        "  if len(nd0.getchildren()) == 0: # Leaf node\n",
        "    l = nd0.getvalue()\n",
        "    if nd0.getlabel() == MinimaxLabel.MIN:\n",
        "      l = -l\n",
        "    return l\n",
        "  else:\n",
        "    childrenids = nd0.getchildren()\n",
        "    indw = randomchoice(list(childrenids))\n",
        "    print(childrenids, indw)\n",
        "    w = tree.getnode(indw)\n",
        "    e = -1 * principalvariationsearch(tree, w, -beta, -alpha)\n",
        "    newids = childrenids.remove(indw)\n",
        "    print(newids)\n",
        "    if len(newids) != 0:\n",
        "      for nodeid in newids:\n",
        "        u = tree.getnode(nodeid)\n",
        "        if beta <= e:\n",
        "          return e\n",
        "        if alpha < e:\n",
        "          alpha = e\n",
        "        t = -1 * principalvariationsearch(tree, u, -(alpha + e), -alpha)\n",
        "        if e < t:\n",
        "          if (t<=a) | (beta <=t):\n",
        "            e = t\n",
        "          else:\n",
        "            e = -1 * principalvariationsearch(tree, u, -beta, -t)\n",
        "      return e"
      ],
      "metadata": {
        "id": "Yo9aKyqIWgii"
      },
      "execution_count": null,
      "outputs": []
    },
    {
      "cell_type": "markdown",
      "source": [
        "## Testing code ✅"
      ],
      "metadata": {
        "id": "L36qXW0swodI"
      }
    },
    {
      "cell_type": "code",
      "source": [
        "e = principalvariationsearch(gameTree, nd[8], 2, 5)\n",
        "print(e)"
      ],
      "metadata": {
        "colab": {
          "base_uri": "https://localhost:8080/"
        },
        "id": "YuLq4qVyb9e_",
        "outputId": "d0b40c79-08aa-4777-db2a-345e56f8e62f"
      },
      "execution_count": null,
      "outputs": [
        {
          "output_type": "stream",
          "name": "stdout",
          "text": [
            "-7\n"
          ]
        }
      ]
    },
    {
      "cell_type": "markdown",
      "source": [
        "(c) Huseyin Hacihabiboglu, 2022-2024"
      ],
      "metadata": {
        "id": "9IhCi5ehwzXl"
      }
    }
  ]
}