{
  "nbformat": 4,
  "nbformat_minor": 0,
  "metadata": {
    "colab": {
      "provenance": [],
      "include_colab_link": true
    },
    "kernelspec": {
      "name": "python3",
      "display_name": "Python 3"
    },
    "language_info": {
      "name": "python"
    }
  },
  "cells": [
    {
      "cell_type": "markdown",
      "metadata": {
        "id": "view-in-github",
        "colab_type": "text"
      },
      "source": [
        "<a href=\"https://colab.research.google.com/github/Ismail-Armutcu/Algorithms-for-Interactive-Sytems/blob/main/MMI513_hw1_random_numbers.ipynb\" target=\"_parent\"><img src=\"https://colab.research.google.com/assets/colab-badge.svg\" alt=\"Open In Colab\"/></a>"
      ]
    },
    {
      "cell_type": "markdown",
      "source": [
        "# MMI513 HW1 Random Numbers\n"
      ],
      "metadata": {
        "id": "3M8gmorWpJRE"
      }
    },
    {
      "cell_type": "code",
      "execution_count": 1,
      "metadata": {
        "id": "CGY_mmKVgSjE"
      },
      "outputs": [],
      "source": [
        "import numpy as np\n",
        "import scipy.signal as sp\n",
        "import matplotlib.pyplot as plt\n",
        "import sys\n",
        "from bisect import bisect_left\n",
        "from itertools import permutations as perms\n",
        "\n",
        "plt.rcParams['figure.figsize'] = [7.5, 7.5] # This is to adjust the image size on Jupyter"
      ]
    },
    {
      "cell_type": "markdown",
      "source": [
        "# Linear Congruential Method"
      ],
      "metadata": {
        "id": "jaBYVP2oFBbS"
      }
    },
    {
      "cell_type": "markdown",
      "source": [
        "- We will first implement the first version of LCG that we discussed in the lecture as ```lgc1()```\n",
        "- This requires the function ```modulosum()```\n",
        "- We will pass ```lgc1()``` as a a function handle to ```lcgrandom()``` which will call it to generate random numbers\n",
        "- We will then follow up on the Las Vegas method which uses ```lgc1()```\n",
        "- ```lgc1()``` is also used in ```randomunit()``` to generate uniformly distributed random (floating-point) numbers in $[0,1)$\n",
        "- Finally, we will implement the spectral test to see how LCG behaves"
      ],
      "metadata": {
        "id": "XDslug_wAnqx"
      }
    },
    {
      "cell_type": "code",
      "source": [
        "def modulosum(x, y, m):\n",
        "    assert (x >= 0 and y >= 0)\n",
        "    assert (x <= m-1 and y <= m-1)\n",
        "    assert (type(x)==int)\n",
        "    assert (type(y)==int)\n",
        "    assert (type(m)==int)\n",
        "\n",
        "    if (x <= m - 1 - y):\n",
        "        return x + y\n",
        "    else:\n",
        "        return x- (m - y)\n",
        "\n",
        "def lcg1(modulus=2**31-1, multiplier=16807, increment=0, startingval=1):\n",
        "    # Check conditions\n",
        "    assert (modulus>=1)\n",
        "    assert (multiplier >=0 and increment >=0 and startingval >= 0)\n",
        "    assert (multiplier <= modulus-1 and increment <= modulus-1 and startingval <= modulus-1)\n",
        "    assert (multiplier <= sys.maxsize/(modulus-1))\n",
        "    # Algorithm 1\n",
        "    r = (multiplier * startingval) % modulus\n",
        "    r = modulosum(r, increment, modulus)\n",
        "    return r\n",
        "\n",
        "def lcgrandom(fun=lcg1, modulus=2**32-1, multiplier=367, increment=314, initval=1, num=1):\n",
        "    # Check conditions\n",
        "    assert(fun==lcg1 or fun==lcg2)\n",
        "    randlist = []; # Create an empty list to populate\n",
        "    for ind in range(num):\n",
        "        val = fun(modulus, multiplier, increment, initval)\n",
        "        initval = val # Set the previous random number as the new seed\n",
        "        randlist.append(val) # Append to the list\n",
        "    return np.array(randlist)\n",
        "\n",
        "def randomunit(fun=lcg1, modulus=2**31-1, multiplier=16807, increment=0, initval=1):\n",
        "    rnd = lcg1(modulus, multiplier, increment, initval)\n",
        "    return (rnd*1.)/modulus, rnd\n",
        "\n",
        "def spectraltest(modulus=256, multiplier=21, increment=11, startingval=0, num=512, t=2):\n",
        "    randlist = lcgrandom(lcg1, modulus, multiplier, increment, startingval, num)\n",
        "    x = randlist[0::2]\n",
        "    y = randlist[1::2]\n",
        "    plt.plot(x, y, 'b.')\n",
        "    plt.axis('square')\n",
        "    plt.axis('tight')\n",
        "    plt.show()\n",
        "    return 0\n"
      ],
      "metadata": {
        "id": "_wcf3NRM9PCq"
      },
      "execution_count": 4,
      "outputs": []
    },
    {
      "cell_type": "markdown",
      "source": [
        "## **Testing code** ✅"
      ],
      "metadata": {
        "id": "-dPSbggI_L2H"
      }
    },
    {
      "cell_type": "markdown",
      "source": [
        "- Let us now test the LCG and Las Vegas methods that we implemented by generating some random numbers"
      ],
      "metadata": {
        "id": "p4fiK4Sw4n-h"
      }
    },
    {
      "cell_type": "code",
      "source": [
        "#@title Testing LGC and Las Vegas methods {run: \"auto\"}\n",
        "numran = 100 #@param {type:\"number\"}\n",
        "ival = 11 #@param {type:\"number\"}\n",
        "lbound = 0 #@param {type:\"number\"}\n",
        "ubound = 600 #@param {type:\"number\"}\n",
        "\n",
        "rlist = lcgrandom(lcg1, num=numran)\n",
        "print('\\nRandom numbers generated by LCG\\n')\n",
        "print(rlist)\n",
        "\n",
        "print('\\nRandom numbers generated by the Las Vegas Algorithm\\n')\n",
        "rlist, _ = lasvegasrandom(initval=ival, lowerbound=lbound, upperbound=ubound, num=numran)\n",
        "print(rlist)"
      ],
      "metadata": {
        "colab": {
          "base_uri": "https://localhost:8080/"
        },
        "id": "pjvojY3b45Tu",
        "outputId": "7b432988-237a-4985-f606-cae465f3631f"
      },
      "execution_count": 5,
      "outputs": [
        {
          "output_type": "stream",
          "name": "stdout",
          "text": [
            "\n",
            "Random numbers generated by LCG\n",
            "\n",
            "[       681     250241   91838761 3640054536  165186281  493823311\n",
            "  844529061  704520461  860971801 2444038746 3609022736 1661417566\n",
            " 4149858441 2579625731 1829838691 1535901891 1035278666 1990148776\n",
            "  240160956 2239725266 1640419591  738568911  471851066 1370649736\n",
            "  517279911  863166671 3249556036 2881124811  810851381 1229713786\n",
            "  333393801 2096441021  594709216 3509917836 3944624921  273367906\n",
            " 1541774031 3190354046 2628830956 2708287086 1803915731  612110161\n",
            " 1306130061 2608362956 3786465676 2358467121 2269007426 3797037721\n",
            " 1943440341  278034491 3254410726  367828746 1849163951   38337721\n",
            " 1185042036 1118730731 2552285566  385932726 4198357316 3198843676\n",
            " 1449557871 3706761686 3171873856  141568521  416039981 2362818016\n",
            " 3865785891 1404214961 4245782896 3424162356 2537134826 3415545736\n",
            " 3669802581 2492784206   23770081  133685451 1817920586 1456924651\n",
            " 2115402651 3258660131 1927360381 2966623761 2124194966 2190472441\n",
            "  744501996 2649293261 1628018431  482310486  914289581  536827531\n",
            " 3742175916 3283994381 2635095541  712422486 3761014976 1607994811\n",
            " 1723576536 1192396661 3817878106 1001927046]\n"
          ]
        }
      ]
    },
    {
      "cell_type": "markdown",
      "source": [
        "- Let us now run the spectral test and see how LCG behaves"
      ],
      "metadata": {
        "id": "cFtJLi8b7riL"
      }
    },
    {
      "cell_type": "code",
      "source": [
        "spectraltest()"
      ],
      "metadata": {
        "colab": {
          "base_uri": "https://localhost:8080/",
          "height": 655
        },
        "id": "X8daR8MV7mJo",
        "outputId": "1d72d45f-51cd-4ebc-806c-262e842cee50"
      },
      "execution_count": 6,
      "outputs": [
        {
          "output_type": "display_data",
          "data": {
            "text/plain": [
              "<Figure size 750x750 with 1 Axes>"
            ],
            "image/png": "[encoded data removed]"
          },
          "metadata": {}
        },
        {
          "output_type": "execute_result",
          "data": {
            "text/plain": [
              "0"
            ]
          },
          "metadata": {},
          "execution_count": 6
        }
      ]
    },
    {
      "cell_type": "code",
      "source": [
        "def randompoisson(mu=10., initstate=2^13-1):\n",
        "    t = np.exp(-mu) # Termination limit value (e.g. P(X=0) given mu, i.e. c=0)\n",
        "    n = -1 #\n",
        "    p = 1 # Probability of 1\n",
        "    while True:\n",
        "        n += 1 # At least zero occurrence\n",
        "        rnd, initstate = randomunit(lcg1, 2**31-1, 16807, 0, initstate) # We have to update the initstate every time we execute this function\n",
        "        p *= rnd # Calculate the probability of the multiple subsequent independent events occuring\n",
        "        if p <= t: # Probability less than the minimum permissible value break, otherwise generate more events\n",
        "            break\n",
        "    return n, initstate\n",
        "\n",
        "def poissonevents(mu=10., num=1000, initstate=2^13-1):\n",
        "    rndlist = []\n",
        "    for ind in range(num):\n",
        "        n, initstate = randompoisson(mu, initstate)\n",
        "        rndlist.append(n)\n",
        "    return np.array(rndlist)"
      ],
      "metadata": {
        "id": "h3wsEaqwFk37"
      },
      "execution_count": 8,
      "outputs": []
    },
    {
      "cell_type": "markdown",
      "source": [
        "## **Testing code** ✅"
      ],
      "metadata": {
        "id": "CnMRy6HH-98B"
      }
    },
    {
      "cell_type": "markdown",
      "source": [
        "- Let us now test the our code by first generating Poisson numbers\n",
        "- We will define initstate in a separate cell since it will be updated by our function.\n",
        "- Try running the cell containing ```randompoisson()``` several times and with different values for ```mupoi``` as well"
      ],
      "metadata": {
        "id": "QPDq2cNj8PEt"
      }
    },
    {
      "cell_type": "code",
      "source": [
        "initstate = 2^13-1"
      ],
      "metadata": {
        "id": "Lp3RZzaT8uH4"
      },
      "execution_count": 9,
      "outputs": []
    },
    {
      "cell_type": "code",
      "source": [
        "#@title Generating a Poisson Number {run: \"auto\"}\n",
        "mupoi = 60 #@param {type:\"number\"}\n",
        "n, initstate = randompoisson(mu=mupoi, initstate = initstate)\n",
        "print(n)"
      ],
      "metadata": {
        "colab": {
          "base_uri": "https://localhost:8080/"
        },
        "id": "CGJ9dFya8OW2",
        "outputId": "cbb4839d-72fc-4a47-aede-be2cfc4c0873"
      },
      "execution_count": 10,
      "outputs": [
        {
          "output_type": "stream",
          "name": "stdout",
          "text": [
            "54\n"
          ]
        }
      ]
    },
    {
      "cell_type": "markdown",
      "source": [
        "- Let us now generate some Poisson events"
      ],
      "metadata": {
        "id": "bmVKSytA9Oh2"
      }
    },
    {
      "cell_type": "markdown",
      "source": [
        "# **PROGRAMMING ASSIGNMENT #1**\n",
        "## **Spring 2023/24 Semester**\n",
        "\n",
        "- Implement the second LCG implementation in the book (p. 27 in the 2017 edition) as ```lcg2()``` and show that it works as intended using the ```spectraltest()``` function.\n",
        "- Implement a ```randomwalk()``` function that generates a random walk of length `n`. A random walk is a sequence of steps taken in random directions. Each step can be either `1` or `-1`, representing a step to the right or left, respectively. The random walk should start at `0`.\n",
        "  - If the next value generated by LCG is greater than the previous value the next step will be `+1`, otherwise `-1`.\n",
        "  - The program should print out the random walk as a Python list as well as the final position of the random walk:\n",
        "  ```python\n",
        "  >> randomwalk(10)\n",
        "  Random walk: [-1, -1, 1, 1, 1, 1, -1, 1, 1, 1]\n",
        "  Final position: 4\n",
        "  ```\n",
        "\n",
        "The program should ask the user for the length of the random walk (n), and then generate the sequence of steps for the random walk.\n",
        "\n",
        "**GRADING:**\n",
        "1. lcg2() function works with default arguments (30/100)\n",
        "2. randomwalk() function works with default arguments (30/100)\n",
        "2. Code carries out necessary checks on inputs via proper assertions (20/100)\n",
        "3. Code is properly commented, explained and documented (20/100)\n",
        "\n",
        "**Notes:**\n",
        "1. You are free to use chatGPT for help, you should not use code generated by chatGPT directly and you should mention which part of the code is chatGPT it in the comments. Your code will be checked for verbatim copying from chatGPT.\n",
        "2. You are not allowed to use external modules/libraries in your implementations, but you can use them for testing your code.\n",
        "3. You will upload your submission as a Python notebook to ODTUClass.\n"
      ],
      "metadata": {
        "id": "3I6JdlJnFmVD"
      }
    },
    {
      "cell_type": "markdown",
      "source": [
        "(c) Huseyin Hacihabiboglu, 2022-2024"
      ],
      "metadata": {
        "id": "RpqTbBZbGg0S"
      }
    }
  ]
}