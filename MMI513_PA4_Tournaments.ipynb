{
  "nbformat": 4,
  "nbformat_minor": 0,
  "metadata": {
    "colab": {
      "provenance": [],
      "authorship_tag": "ABX9TyNwcKyBIMjOe7rHG6Ok81va",
      "include_colab_link": true
    },
    "kernelspec": {
      "name": "python3",
      "display_name": "Python 3"
    },
    "language_info": {
      "name": "python"
    }
  },
  "cells": [
    {
      "cell_type": "markdown",
      "metadata": {
        "id": "view-in-github",
        "colab_type": "text"
      },
      "source": [
        "<a href=\"https://colab.research.google.com/github/Ismail-Armutcu/Algorithms-for-Interactive-Sytems/blob/main/MMI513_PA4_Tournaments.ipynb\" target=\"_parent\"><img src=\"https://colab.research.google.com/assets/colab-badge.svg\" alt=\"Open In Colab\"/></a>"
      ]
    },
    {
      "cell_type": "markdown",
      "source": [
        "# **MMI513 Programming Assignment #4**\n",
        "## **Tournaments - King of the Hill**\n",
        "- İsmail Hakkı Armutcu\n",
        "- 2374395\n",
        "\n"
      ],
      "metadata": {
        "id": "ezhJV8lIpWgK"
      }
    },
    {
      "cell_type": "code",
      "source": [
        "import numpy as np\n",
        "import math"
      ],
      "metadata": {
        "id": "v_EtCCmPwSUf"
      },
      "execution_count": 232,
      "outputs": []
    },
    {
      "cell_type": "code",
      "source": [
        "class Player: #Player  class to implement tournaments such as pyramid match and king of the hill\n",
        "\n",
        "  def __init__(self, name, rank = 0,peerStatus = True): #Constructor\n",
        "    assert(type(peerStatus) == bool)\n",
        "    assert(rank == None or rank >=0)\n",
        "    self.name = name\n",
        "    self.rank = rank\n",
        "    self.peerWinner = peerStatus\n",
        "\n",
        "  def __str__(self):  #To print the class\n",
        "    return f\"Name:{self.name} Rank:{self.rank} PeerWinner:{self.peerWinner}\"\n",
        "\n",
        "  def __repr__(self): #The string representation of class\n",
        "    return str(self)\n",
        "\n",
        "  def __eq__(self, object2): #Equality test for the class\n",
        "    if(type(object2) == Player):\n",
        "      return self.name == object2.name\n",
        "    elif(type(object2) == str):\n",
        "      return self.name == object2\n",
        "    else:\n",
        "      return False\n",
        "\n",
        "  def __ne__(self, object2): # Not equal test for the class\n",
        "    return self.name != object2.name\n",
        "\n",
        "  def setRank(self,rank):  # Sets the rank of the object\n",
        "    assert( rank >=0 or rank == None)\n",
        "    self.rank = rank\n",
        "\n",
        "  def getRank(self):    # Returns the rank of the object\n",
        "    return self.rank\n",
        "\n",
        "  def setPeerWinner(self, status): # Sets the peerWinner status of the object\n",
        "    assert(type(status) == bool)\n",
        "    self.peerWinner = status\n",
        "\n",
        "  def getPeerWinner(self): # Returns the peerWinner status of the object\n",
        "    return self.peerWinner\n",
        "\n",
        "\n",
        "\n",
        "def printPlayers(P): ## Prints the list of players in an organized manner\n",
        "  names = []\n",
        "  ranks = []\n",
        "  peerWinner = []\n",
        "  for p in P:\n",
        "    names.append(p.name)\n",
        "    ranks.append(p.getRank())\n",
        "    peerWinner.append(p.getPeerWinner())\n",
        "  print(\"Names:     \",names)\n",
        "  print(\"Ranks:     \",ranks)\n",
        "  print(\"PeerWinner:\",peerWinner)\n"
      ],
      "metadata": {
        "id": "GJgET97qznrD"
      },
      "execution_count": 233,
      "outputs": []
    },
    {
      "cell_type": "code",
      "source": [
        "def unrankedplayers(n): #Create a list of n players with ranks none\n",
        "    P = []\n",
        "    for ind in range(n):\n",
        "        p = Player(name = 'P' + str(ind), rank = None, peerStatus = True)\n",
        "        P.append(p)\n",
        "\n",
        "    return P\n",
        "\n",
        "def enumeration(P):   # Enumerate (shuffle) the list of players\n",
        "    assert(type(P[0]) == Player)\n",
        "    lst = np.arange(len(P))\n",
        "    order = np.random.permutation(lst)\n",
        "    M = []\n",
        "    for ind in order:\n",
        "      M.append(P[ind])\n",
        "    return M\n",
        "\n",
        "def rankeds(P, r):  # From the list of players return those with ranks n\n",
        "    assert(type(P[0]) == Player)\n",
        "    assert(r >= 0)\n",
        "    W = []\n",
        "    for p in P:\n",
        "      if p.getRank() == r:\n",
        "        W.append(p)\n",
        "    return W\n",
        "\n",
        "def match(p, q, thr, tieflag=False): ## Determine the winner of two players\n",
        "    toss = np.random.rand(1)\n",
        "    upC = 1\n",
        "    downC = 1\n",
        "    if tieflag: # If Tie is allowed\n",
        "      upC = 1.1\n",
        "      downC = 0.9\n",
        "    if thr * downC < toss < thr * upC: # If the random number is around thr, result is a tie\n",
        "        result = Player(\"None\",None,False) # Tie\n",
        "    elif toss > thr * upC:\n",
        "        result = p\n",
        "    else:\n",
        "        result = q\n",
        "    return result\n",
        "\n",
        "def ladder_match(P, p, q):\n",
        "    m = match(p, q, 0.5)\n",
        "    if m == \"None\" or m == p:\n",
        "        return P\n",
        "    else:\n",
        "        indp = P.index(p)\n",
        "        indq = P.index(q)\n",
        "        rankp = P[indp].getRank()\n",
        "        rankq = P[indq].getRank()\n",
        "        if rankq == None:\n",
        "            rankq = rankp\n",
        "        P[indp].setRank(rankq)\n",
        "        P[indq].setRank(rankp)\n",
        "        return P\n",
        "\n",
        "def initial_rank_adjustment(P, S): ## Se the rank of players in the list according to input S\n",
        "    assert len(P) == sum(S)\n",
        "    m = len(S)\n",
        "    R = P.copy()\n",
        "    R = enumeration(R)\n",
        "    for ind in range(S[0]):\n",
        "      R[ind].setRank(0) # The initial champion(s)\n",
        "    c =  S[0]\n",
        "    for rank in range(1, m):\n",
        "        W = rankeds(R, rank - 1) # The runners-up\n",
        "        Mp = enumeration(W)\n",
        "        for ind in range(S[rank]):\n",
        "            R[c+ind].setRank(rank)\n",
        "            jnd = ind % len(Mp)\n",
        "\n",
        "            if Mp[jnd].getRank() != rank:\n",
        "              R = ladder_match(R, Mp[jnd], R[c + ind])\n",
        "        c += S[rank]\n",
        "    return R"
      ],
      "metadata": {
        "id": "yxJwSZU3wVQW"
      },
      "execution_count": 234,
      "outputs": []
    },
    {
      "cell_type": "markdown",
      "source": [
        "## Test Player Class implementations of\n",
        "- unrankedplayers()\n",
        "- enumeration()\n",
        "- initial_rank_adjustment()"
      ],
      "metadata": {
        "id": "-nnuZjfyttoB"
      }
    },
    {
      "cell_type": "code",
      "source": [
        "P = unrankedplayers(11)\n",
        "print(\"unRankedPlayers\")\n",
        "printPlayers(P)\n",
        "\n",
        "\n",
        "\n",
        "S = [1, 2, 3, 5] # Ranking structure: One champion, 2 second places, etc.\n",
        "M = enumeration(P)\n",
        "print(\"Enumeration\")\n",
        "printPlayers(M)\n",
        "R = initial_rank_adjustment(P, S)\n",
        "print(\"Initial Rank Adjustment\")\n",
        "printPlayers(R)\n",
        "\n"
      ],
      "metadata": {
        "colab": {
          "base_uri": "https://localhost:8080/"
        },
        "id": "kqzndyVvxKPM",
        "outputId": "770edb8a-514d-4aea-b63b-d616dbf81556"
      },
      "execution_count": 235,
      "outputs": [
        {
          "output_type": "stream",
          "name": "stdout",
          "text": [
            "unRankedPlayers\n",
            "Names:      ['P0', 'P1', 'P2', 'P3', 'P4', 'P5', 'P6', 'P7', 'P8', 'P9', 'P10']\n",
            "Ranks:      [None, None, None, None, None, None, None, None, None, None, None]\n",
            "PeerWinner: [True, True, True, True, True, True, True, True, True, True, True]\n",
            "Enumeration\n",
            "Names:      ['P0', 'P3', 'P10', 'P6', 'P7', 'P9', 'P2', 'P4', 'P5', 'P8', 'P1']\n",
            "Ranks:      [None, None, None, None, None, None, None, None, None, None, None]\n",
            "PeerWinner: [True, True, True, True, True, True, True, True, True, True, True]\n",
            "Initial Rank Adjustment\n",
            "Names:      ['P2', 'P1', 'P10', 'P8', 'P9', 'P5', 'P4', 'P0', 'P7', 'P6', 'P3']\n",
            "Ranks:      [3, 0, 2, 3, 1, 1, 3, 2, 3, 2, 3]\n",
            "PeerWinner: [True, True, True, True, True, True, True, True, True, True, True]\n"
          ]
        }
      ]
    },
    {
      "cell_type": "code",
      "source": [
        "def pyramid_match(P, p, q):\n",
        "\n",
        "  pi = P.index(p)   ## Find the players p and q in list P\n",
        "  qi = P.index(q)\n",
        "  playerP = P[pi]\n",
        "  playerQ = P[qi]\n",
        "\n",
        "  #print((playerP.getRank() == playerQ.getRank()) and (not playerQ.getPeerWinner()))\n",
        "  #print((playerP.getRank() == playerQ.getRank()-1) and playerQ.getPeerWinner())\n",
        "\n",
        "  if not ((playerP.getRank() == playerQ.getRank()) and (not playerQ.getPeerWinner())) | ((playerP.getRank() == playerQ.getRank()-1) and playerQ.getPeerWinner()):\n",
        "    print('No match was played! Ranks do not match the conditions for pyramid match!')\n",
        "    return P\n",
        "\n",
        "  R = P.copy() # We copy the player dictionary first\n",
        "  R.pop(R.index(playerP)) #Find player p in list and pop it\n",
        "  R.pop(R.index(playerQ)) #Find player q in list and pop it\n",
        "\n",
        "\n",
        "  # We do not have the two players in our set of players now.\n",
        "  m = match(playerP, playerQ, 0.5) # Let them compete\n",
        "\n",
        "  if (playerP.getRank() == playerQ.getRank()): # Peer match\n",
        "    if (((m == p) and (not playerP.getPeerWinner())) or (((m == q) or m == \"None\") and playerP.getPeerWinner())):\n",
        "      playerPP = Player(playerP.name,playerP.getRank(),playerP == m)\n",
        "    else:\n",
        "      playerPP = playerP\n",
        "    if (m == q):\n",
        "      playerQP = Player(playerQ.name, playerQ.getRank(), True)\n",
        "    else:\n",
        "       playerQP = playerQ\n",
        "\n",
        "    R.append(playerPP) ## add the updated players in the list\n",
        "    R.append(playerQP)\n",
        "    return R\n",
        "  else: # Rank challenge match\n",
        "    playerQP = Player(playerQ.name, playerQ.getRank(), False)\n",
        "    if (m == p) or m == \"None\":\n",
        "      R.append(playerP)\n",
        "      R.append(playerQP)  # add the updated players in the list\n",
        "      return R\n",
        "    else:\n",
        "      playerPP = Player(playerP.name, playerQ.getRank(), False)\n",
        "      playerQP.setRank(playerP.getRank())\n",
        "      R.append(playerPP)\n",
        "      R.append(playerQP)  # add the updated players in the list\n",
        "      return R"
      ],
      "metadata": {
        "id": "YfdtlWaLwZLo"
      },
      "execution_count": 236,
      "outputs": []
    },
    {
      "cell_type": "markdown",
      "source": [
        "## Arrange the list of players\n",
        "- Create list of n players.\n",
        "- Set the ranks\n",
        "- Set the peerWinner status as true"
      ],
      "metadata": {
        "id": "9mnTxEHfvoE7"
      }
    },
    {
      "cell_type": "code",
      "source": [
        "n = 11\n",
        "P = unrankedplayers(n)\n",
        "S = [1, 2, 3, 5]\n",
        "R = initial_rank_adjustment(P, S)\n",
        "# Appending the peerWinner field to R makes it into pyramid structure\n",
        "for r in R:\n",
        "  r.setPeerWinner(True)\n",
        "printPlayers(R)"
      ],
      "metadata": {
        "id": "McqXFRnYy8N8",
        "outputId": "ee92c525-79b2-4c1e-f3b1-022a3008ec84",
        "colab": {
          "base_uri": "https://localhost:8080/"
        }
      },
      "execution_count": 237,
      "outputs": [
        {
          "output_type": "stream",
          "name": "stdout",
          "text": [
            "Names:      ['P0', 'P5', 'P2', 'P1', 'P8', 'P10', 'P9', 'P7', 'P6', 'P3', 'P4']\n",
            "Ranks:      [3, 0, 2, 3, 1, 1, 3, 3, 3, 2, 2]\n",
            "PeerWinner: [True, True, True, True, True, True, True, True, True, True, True]\n"
          ]
        }
      ]
    },
    {
      "cell_type": "markdown",
      "source": [
        "## Test the player class implementation of pyramid_match"
      ],
      "metadata": {
        "id": "qA4eqmVdv9iJ"
      }
    },
    {
      "cell_type": "code",
      "source": [
        "R = pyramid_match(R, \"P6\", \"P9\")\n",
        "printPlayers(R)"
      ],
      "metadata": {
        "id": "wQeVtRj5wmfc",
        "outputId": "d71b98be-9097-4566-d016-140fafca4999",
        "colab": {
          "base_uri": "https://localhost:8080/"
        }
      },
      "execution_count": 238,
      "outputs": [
        {
          "output_type": "stream",
          "name": "stdout",
          "text": [
            "No match was played! Ranks do not match the conditions for pyramid match!\n",
            "Names:      ['P0', 'P5', 'P2', 'P1', 'P8', 'P10', 'P9', 'P7', 'P6', 'P3', 'P4']\n",
            "Ranks:      [3, 0, 2, 3, 1, 1, 3, 3, 3, 2, 2]\n",
            "PeerWinner: [True, True, True, True, True, True, True, True, True, True, True]\n"
          ]
        }
      ]
    },
    {
      "cell_type": "markdown",
      "source": [
        "## King of the Hill Tournament implementation with Player Class"
      ],
      "metadata": {
        "id": "m5xhr_PiwQpC"
      }
    },
    {
      "cell_type": "code",
      "source": [
        "def kingofthehill(P = unrankedplayers(7)): ## The input is list of players\n",
        "  assert(len(P) >= 1)                       #Check if the list of players is non empty\n",
        "  assert(math.log2(len(P)+1).is_integer())  # Check if n+1 is a power of two\n",
        "  assert(type(P[0]) == Player)              # Check if the list consists of Player objects\n",
        "\n",
        "  m = int(math.log2(len(P)+1))            # m = log(n+1)\n",
        "  S = []\n",
        "  for i in range(m):\n",
        "    S.append(2**i)    ## form the ranks\n",
        "\n",
        "  R = initial_rank_adjustment(P,S) ## Initialize the ranks\n",
        "  print(\"Players Initialized\")\n",
        "  printPlayers(R)\n",
        "  for rp in range(1,m):\n",
        "    r = (m-1)-(rp-1)\n",
        "    M = enumeration(rankeds(R,r))\n",
        "    l = len(M)\n",
        "\n",
        "    for i in range(l//2):\n",
        "      M[2*i].setPeerWinner(False)\n",
        "      M[2*i+1].setPeerWinner(False)\n",
        "      print(\"Players face off before\")\n",
        "      printPlayers([M[2*i],  M[2*i+1]])\n",
        "      R = pyramid_match(R,M[2*i].name,M[2*i+1].name)\n",
        "      print(\"Players face off after\")\n",
        "      ind1 = R.index(M[2*i])\n",
        "      ind2 = R.index(M[2*i+1])\n",
        "      printPlayers([R[ind1],  R[ind2]])\n",
        "\n",
        "    M = []\n",
        "    for p in rankeds(R,r):\n",
        "      if(p.getPeerWinner() == True):\n",
        "        M.append(p)\n",
        "    Mp = enumeration(rankeds(R,r-1))\n",
        "    for i in range(l//2):\n",
        "      print(\"Players face off before\")\n",
        "      printPlayers([Mp[i],M[i]])\n",
        "      R = pyramid_match(R,Mp[i].name,M[i].name)\n",
        "      print(\"Players face off after\")\n",
        "      ind1 = R.index(Mp[i])\n",
        "      ind2 = R.index(M[i])\n",
        "      printPlayers([R[ind1],  R[ind2]])\n",
        "\n",
        "  return R\n"
      ],
      "metadata": {
        "id": "DAGPdDgWzmSX"
      },
      "execution_count": 239,
      "outputs": []
    },
    {
      "cell_type": "markdown",
      "source": [
        "## Test the King of the Hill Tournament implementation with Player Class"
      ],
      "metadata": {
        "id": "Q5X8Z6kWxbcM"
      }
    },
    {
      "cell_type": "code",
      "source": [
        "\n",
        "R = kingofthehill()\n",
        "print(\"Tournament is complete\")\n",
        "printPlayers(R)"
      ],
      "metadata": {
        "id": "C9SJHLneAy2t",
        "outputId": "f464624d-5e79-4ee6-f273-4577ad83ffa7",
        "colab": {
          "base_uri": "https://localhost:8080/"
        }
      },
      "execution_count": 240,
      "outputs": [
        {
          "output_type": "stream",
          "name": "stdout",
          "text": [
            "Players Initialized\n",
            "Names:      ['P1', 'P2', 'P4', 'P3', 'P0', 'P6', 'P5']\n",
            "Ranks:      [2, 0, 2, 2, 2, 1, 1]\n",
            "PeerWinner: [True, True, True, True, True, True, True]\n",
            "Players face off before\n",
            "Names:      ['P1', 'P3']\n",
            "Ranks:      [2, 2]\n",
            "PeerWinner: [False, False]\n",
            "Players face off after\n",
            "Names:      ['P1', 'P3']\n",
            "Ranks:      [2, 2]\n",
            "PeerWinner: [True, False]\n",
            "Players face off before\n",
            "Names:      ['P4', 'P0']\n",
            "Ranks:      [2, 2]\n",
            "PeerWinner: [False, False]\n",
            "Players face off after\n",
            "Names:      ['P4', 'P0']\n",
            "Ranks:      [2, 2]\n",
            "PeerWinner: [True, False]\n",
            "Players face off before\n",
            "Names:      ['P5', 'P1']\n",
            "Ranks:      [1, 2]\n",
            "PeerWinner: [True, True]\n",
            "Players face off after\n",
            "Names:      ['P5', 'P1']\n",
            "Ranks:      [1, 2]\n",
            "PeerWinner: [True, False]\n",
            "Players face off before\n",
            "Names:      ['P6', 'P4']\n",
            "Ranks:      [1, 2]\n",
            "PeerWinner: [True, True]\n",
            "Players face off after\n",
            "Names:      ['P6', 'P4']\n",
            "Ranks:      [1, 2]\n",
            "PeerWinner: [True, False]\n",
            "Players face off before\n",
            "Names:      ['P6', 'P5']\n",
            "Ranks:      [1, 1]\n",
            "PeerWinner: [False, False]\n",
            "Players face off after\n",
            "Names:      ['P6', 'P5']\n",
            "Ranks:      [1, 1]\n",
            "PeerWinner: [True, False]\n",
            "Players face off before\n",
            "Names:      ['P2', 'P6']\n",
            "Ranks:      [0, 1]\n",
            "PeerWinner: [True, True]\n",
            "Players face off after\n",
            "Names:      ['P2', 'P6']\n",
            "Ranks:      [0, 1]\n",
            "PeerWinner: [True, False]\n",
            "Tournament is complete\n",
            "Names:      ['P3', 'P0', 'P1', 'P4', 'P5', 'P2', 'P6']\n",
            "Ranks:      [2, 2, 2, 2, 1, 0, 1]\n",
            "PeerWinner: [False, False, False, False, False, True, False]\n"
          ]
        }
      ]
    }
  ]
}